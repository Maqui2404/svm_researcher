{
 "cells": [
  {
   "cell_type": "code",
   "execution_count": null,
   "metadata": {},
   "outputs": [],
   "source": [
    "\n"
   ]
  },
  {
   "cell_type": "markdown",
   "metadata": {},
   "source": [
    "# SVM VOLTAGE CATEGORY"
   ]
  },
  {
   "cell_type": "code",
   "execution_count": 2,
   "metadata": {},
   "outputs": [
    {
     "name": "stdout",
     "output_type": "stream",
     "text": [
      "Archivo guardado como CSV exitosamente.\n"
     ]
    }
   ],
   "source": [
    "import pandas as pd\n",
    "\n",
    "# Carga el archivo .txt, especificando que no tiene encabezados\n",
    "data_mult = pd.read_csv(\"data solar panel.txt\", header=None)\n",
    "\n",
    "# Añade nombres de columnas\n",
    "data_mult.columns = [\"ID\", \"Temperature\", \"Humidity\", \"UV\", \"Voltage\", \"Current\", \n",
    "                     \"Illuminance\", \"ClientIP\", \"SensorID\", \"DateTime\"]\n",
    "\n",
    "# Guarda el archivo como .csv\n",
    "data_mult.to_csv(\"data_sp.csv\", index=False)\n",
    "\n",
    "print(\"Archivo guardado como CSV exitosamente.\")\n"
   ]
  },
  {
   "cell_type": "code",
   "execution_count": 3,
   "metadata": {},
   "outputs": [
    {
     "name": "stdout",
     "output_type": "stream",
     "text": [
      "Comparison of SVM Configurations:\n",
      "                            Configuration  Accuracy  Precision (weighted)  \\\n",
      "0                    Linear Kernel (C=10)  0.998851              0.998852   \n",
      "1             RBF Kernel (C=1, gamma=0.1)  0.997128              0.997177   \n",
      "2       Polynomial Kernel (degree=3, C=1)  0.995979              0.995966   \n",
      "3               Balanced RBF Kernel (C=1)  0.984492              0.987061   \n",
      "4  Linear Kernel with Probabilities (C=1)  0.997128              0.997176   \n",
      "\n",
      "   Recall (weighted)  F1-Score (weighted)  \n",
      "0           0.998851             0.998851  \n",
      "1           0.997128             0.997142  \n",
      "2           0.995979             0.995959  \n",
      "3           0.984492             0.985126  \n",
      "4           0.997128             0.997142  \n"
     ]
    }
   ],
   "source": [
    "import pandas as pd\n",
    "import numpy as np\n",
    "from sklearn.model_selection import train_test_split\n",
    "from sklearn.svm import SVC\n",
    "from sklearn.metrics import classification_report\n",
    "from sklearn.preprocessing import StandardScaler\n",
    "\n",
    "# Cargar datos\n",
    "df = pd.read_csv('data_sp_categorized.csv')\n",
    "\n",
    "# Seleccionar características y clase objetivo\n",
    "X = df[['Temperature', 'Humidity', 'UV', 'Current', 'Illuminance']].values\n",
    "y = df['Voltage_Category'].values\n",
    "\n",
    "# Normalizar los datos\n",
    "scaler = StandardScaler()\n",
    "X = scaler.fit_transform(X)\n",
    "\n",
    "# Dividir los datos en entrenamiento y prueba\n",
    "X_train, X_test, y_train, y_test = train_test_split(X, y, test_size=0.3, random_state=42)\n",
    "\n",
    "# Definir configuraciones de SVM\n",
    "configurations = {\n",
    "    \"Linear Kernel (C=10)\": SVC(kernel='linear', C=10),\n",
    "    \"RBF Kernel (C=1, gamma=0.1)\": SVC(kernel='rbf', C=1, gamma=0.1),\n",
    "    \"Polynomial Kernel (degree=3, C=1)\": SVC(kernel='poly', degree=3, C=1),\n",
    "    \"Balanced RBF Kernel (C=1)\": SVC(kernel='rbf', C=1, class_weight='balanced'),\n",
    "    \"Linear Kernel with Probabilities (C=1)\": SVC(kernel='linear', C=1, probability=True)\n",
    "}\n",
    "\n",
    "# Almacenar resultados\n",
    "results = []\n",
    "\n",
    "# Entrenar y evaluar cada configuración\n",
    "for config_name, model in configurations.items():\n",
    "    model.fit(X_train, y_train)\n",
    "    y_pred = model.predict(X_test)\n",
    "    report = classification_report(y_test, y_pred, output_dict=True, zero_division=0)\n",
    "    \n",
    "    # Guardar las métricas clave\n",
    "    results.append({\n",
    "        \"Configuration\": config_name,\n",
    "        \"Accuracy\": report['accuracy'],\n",
    "        \"Precision (weighted)\": report['weighted avg']['precision'],\n",
    "        \"Recall (weighted)\": report['weighted avg']['recall'],\n",
    "        \"F1-Score (weighted)\": report['weighted avg']['f1-score']\n",
    "    })\n",
    "\n",
    "# Convertir los resultados en un DataFrame para mostrar\n",
    "results_df = pd.DataFrame(results)\n",
    "\n",
    "# Imprimir el cuadro de comparación\n",
    "print(\"Comparison of SVM Configurations:\")\n",
    "print(results_df)\n"
   ]
  },
  {
   "cell_type": "code",
   "execution_count": null,
   "metadata": {},
   "outputs": [],
   "source": []
  },
  {
   "cell_type": "code",
   "execution_count": null,
   "metadata": {},
   "outputs": [],
   "source": []
  },
  {
   "cell_type": "code",
   "execution_count": null,
   "metadata": {},
   "outputs": [],
   "source": []
  }
 ],
 "metadata": {
  "kernelspec": {
   "display_name": "base",
   "language": "python",
   "name": "python3"
  },
  "language_info": {
   "codemirror_mode": {
    "name": "ipython",
    "version": 3
   },
   "file_extension": ".py",
   "mimetype": "text/x-python",
   "name": "python",
   "nbconvert_exporter": "python",
   "pygments_lexer": "ipython3",
   "version": "3.11.5"
  }
 },
 "nbformat": 4,
 "nbformat_minor": 2
}
